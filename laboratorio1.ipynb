{
 "metadata": {
  "orig_nbformat": 2,
  "kernelspec": {
   "name": "ir",
   "display_name": "R",
   "language": "R"
  },
  "metadata": {
   "interpreter": {
    "hash": "1679ff9c7262cb74c426c67b4820b8a25f19762de57375222eb445009bfb1f56"
   }
  }
 },
 "nbformat": 4,
 "nbformat_minor": 2,
 "cells": [
  {
   "source": [
    "# Laboratório 1\n",
    "\n",
    "Relatório do 1o Laboratório da disciplina IA368X, 1S2021 UNICAMP."
   ],
   "cell_type": "markdown",
   "metadata": {}
  },
  {
   "source": [
    "## Processo de instalação\n",
    "\n",
    "O ambiente de desenvolvimento completo consiste das seguintes ferramentas de desenvolvimento. Elas devem ser instaladas primeiro.\n",
    "\n",
    "* [WSL (Windows Subsystem for Linux)](https://docs.microsoft.com/en-us/windows/wsl/install-win10)\n",
    "\n",
    "* [Microsoft Visual Studio Code](https://code.visualstudio.com/)\n",
    "\n",
    "No Visual Studio Code, as seguintes extensões são utilizadas.\n",
    "\n",
    "* [Remote - WSL](https://marketplace.visualstudio.com/items?itemName=ms-vscode-remote.remote-wsl)\n",
    "\n",
    "* [Jupyter](https://marketplace.visualstudio.com/items?itemName=ms-toolsai.jupyter)\n",
    "\n",
    "Para a realização do laboratório, a linguagem de programação escolhida foi R. Para poder utilizar esse linguagem, deve-se instalar R no WSL seguindo esse [tutorial](https://linuxize.com/post/how-to-install-r-on-ubuntu-20-04/). Além disso, também deve-se instalar um kernel R para rodar os códigos dentro do notebook - isso pode ser feito seguindo esse [tutorial](https://irkernel.github.io/installation/).\n",
    "\n",
    "Com tudo instalado, basta criar um novo notebook no VS Code, e selecionar o kernel R (caso ainda não esteja selecinado)."
   ],
   "cell_type": "markdown",
   "metadata": {}
  },
  {
   "source": [
    "## Análise\n",
    "\n",
    "Arquivo CSV com o dados: [link](https://raw.githubusercontent.com/pdpcosta/labs2learn/master/data/ebmocsna.csv)\n",
    "\n",
    "O arquivo CSV apresenta o resultado de quatro experimentos onde a configuração da variável de controle **x**, resultou na correspondente medição **y**. Para os três primeiros experimentos, o valor de **x1**, **x2** e **x3** é o mesmo, resultando nas medições **y1**, **y2** e **y3**. Já no quarto experimento, os valores de **y4** são correspondentes à variável **x4**.\n",
    "\n",
    "Inicialmente, carregam-se os dados do arquivo CSV em variáveis."
   ],
   "cell_type": "markdown",
   "metadata": {}
  },
  {
   "cell_type": "code",
   "execution_count": 1,
   "metadata": {},
   "outputs": [],
   "source": [
    "csv_values <- read.csv(file=\"data/ebmocsna.csv\")\n",
    "\n",
    "x1 = csv_values$x1\n",
    "x2 = csv_values$x2\n",
    "x3 = csv_values$x3\n",
    "x4 = csv_values$x4\n",
    "\n",
    "y1 = csv_values$y1\n",
    "y2 = csv_values$y2\n",
    "y3 = csv_values$y3\n",
    "y4 = csv_values$y4"
   ]
  },
  {
   "source": [
    "Para a análise dos dados, inicialmente considerou-se a média de cada uma das variáveis. Esses resultados se encontram executando a célula abaixo."
   ],
   "cell_type": "markdown",
   "metadata": {}
  },
  {
   "cell_type": "code",
   "execution_count": 2,
   "metadata": {},
   "outputs": [
    {
     "output_type": "display_data",
     "data": {
      "text/html": "'A media de x1 eh 9.00'",
      "text/markdown": "'A media de x1 eh 9.00'",
      "text/latex": "'A media de x1 eh 9.00'",
      "text/plain": "[1] \"A media de x1 eh 9.00\""
     },
     "metadata": {}
    },
    {
     "output_type": "display_data",
     "data": {
      "text/html": "'A media de x2 eh 9.00'",
      "text/markdown": "'A media de x2 eh 9.00'",
      "text/latex": "'A media de x2 eh 9.00'",
      "text/plain": "[1] \"A media de x2 eh 9.00\""
     },
     "metadata": {}
    },
    {
     "output_type": "display_data",
     "data": {
      "text/html": "'A media de x3 eh 9.00'",
      "text/markdown": "'A media de x3 eh 9.00'",
      "text/latex": "'A media de x3 eh 9.00'",
      "text/plain": "[1] \"A media de x3 eh 9.00\""
     },
     "metadata": {}
    },
    {
     "output_type": "display_data",
     "data": {
      "text/html": "'A media de x4 eh 9.00'",
      "text/markdown": "'A media de x4 eh 9.00'",
      "text/latex": "'A media de x4 eh 9.00'",
      "text/plain": "[1] \"A media de x4 eh 9.00\""
     },
     "metadata": {}
    },
    {
     "output_type": "display_data",
     "data": {
      "text/html": "'A media de y1 eh 7.50'",
      "text/markdown": "'A media de y1 eh 7.50'",
      "text/latex": "'A media de y1 eh 7.50'",
      "text/plain": "[1] \"A media de y1 eh 7.50\""
     },
     "metadata": {}
    },
    {
     "output_type": "display_data",
     "data": {
      "text/html": "'A media de y2 eh 7.50'",
      "text/markdown": "'A media de y2 eh 7.50'",
      "text/latex": "'A media de y2 eh 7.50'",
      "text/plain": "[1] \"A media de y2 eh 7.50\""
     },
     "metadata": {}
    },
    {
     "output_type": "display_data",
     "data": {
      "text/html": "'A media de y3 eh 7.50'",
      "text/markdown": "'A media de y3 eh 7.50'",
      "text/latex": "'A media de y3 eh 7.50'",
      "text/plain": "[1] \"A media de y3 eh 7.50\""
     },
     "metadata": {}
    },
    {
     "output_type": "display_data",
     "data": {
      "text/html": "'A media de y4 eh 7.50'",
      "text/markdown": "'A media de y4 eh 7.50'",
      "text/latex": "'A media de y4 eh 7.50'",
      "text/plain": "[1] \"A media de y4 eh 7.50\""
     },
     "metadata": {}
    }
   ],
   "source": [
    "media_x1 = mean(x1)\n",
    "sprintf(\"A media de x1 eh %.2f\", media_x1)\n",
    "\n",
    "media_x2 = mean(x2)\n",
    "sprintf(\"A media de x2 eh %.2f\", media_x2)\n",
    "\n",
    "media_x3 = mean(x3)\n",
    "sprintf(\"A media de x3 eh %.2f\", media_x3)\n",
    "\n",
    "media_x4 = mean(x4)\n",
    "sprintf(\"A media de x4 eh %.2f\", media_x4)\n",
    "\n",
    "media_y1 = mean(y1)\n",
    "sprintf(\"A media de y1 eh %.2f\", media_y1)\n",
    "\n",
    "media_y2 = mean(y2)\n",
    "sprintf(\"A media de y2 eh %.2f\", media_y2)\n",
    "\n",
    "media_y3 = mean(y3)\n",
    "sprintf(\"A media de y3 eh %.2f\", media_y3)\n",
    "\n",
    "media_y4 = mean(y4)\n",
    "sprintf(\"A media de y4 eh %.2f\", media_y4)"
   ]
  },
  {
   "source": [
    "Considerou-se em seguida a correlação entre as variáveis duas a duas - **x1** e **y1**, **x2** e **y2**, e assim por diante. Os resultados se encontram executando a célula abaixo."
   ],
   "cell_type": "markdown",
   "metadata": {}
  },
  {
   "cell_type": "code",
   "execution_count": 3,
   "metadata": {},
   "outputs": [
    {
     "output_type": "display_data",
     "data": {
      "text/html": "'A correlacao entre x1 e y1 eh 0.816'",
      "text/markdown": "'A correlacao entre x1 e y1 eh 0.816'",
      "text/latex": "'A correlacao entre x1 e y1 eh 0.816'",
      "text/plain": "[1] \"A correlacao entre x1 e y1 eh 0.816\""
     },
     "metadata": {}
    },
    {
     "output_type": "display_data",
     "data": {
      "text/html": "'A correlacao entre x2 e y2 eh 0.816'",
      "text/markdown": "'A correlacao entre x2 e y2 eh 0.816'",
      "text/latex": "'A correlacao entre x2 e y2 eh 0.816'",
      "text/plain": "[1] \"A correlacao entre x2 e y2 eh 0.816\""
     },
     "metadata": {}
    },
    {
     "output_type": "display_data",
     "data": {
      "text/html": "'A correlacao entre x3 e y3 eh 0.816'",
      "text/markdown": "'A correlacao entre x3 e y3 eh 0.816'",
      "text/latex": "'A correlacao entre x3 e y3 eh 0.816'",
      "text/plain": "[1] \"A correlacao entre x3 e y3 eh 0.816\""
     },
     "metadata": {}
    },
    {
     "output_type": "display_data",
     "data": {
      "text/html": "'A correlacao entre x4 e y4 eh 0.817'",
      "text/markdown": "'A correlacao entre x4 e y4 eh 0.817'",
      "text/latex": "'A correlacao entre x4 e y4 eh 0.817'",
      "text/plain": "[1] \"A correlacao entre x4 e y4 eh 0.817\""
     },
     "metadata": {}
    }
   ],
   "source": [
    "correlacao_x1_y1 = cor(x1, y1, method=\"pearson\")\n",
    "sprintf(\"A correlacao entre x1 e y1 eh %.3f\", correlacao_x1_y1)\n",
    "\n",
    "correlacao_x2_y2 = cor(x2, y2, method=\"pearson\")\n",
    "sprintf(\"A correlacao entre x2 e y2 eh %.3f\", correlacao_x2_y2)\n",
    "\n",
    "correlacao_x3_y3 = cor(x3, y3, method=\"pearson\")\n",
    "sprintf(\"A correlacao entre x3 e y3 eh %.3f\", correlacao_x3_y3)\n",
    "\n",
    "correlacao_x4_y4 = cor(x4, y4, method=\"pearson\")\n",
    "sprintf(\"A correlacao entre x4 e y4 eh %.3f\", correlacao_x4_y4)"
   ]
  },
  {
   "source": [
    "Finalmente, plotaram-se os valores dos pares de variáveis, como mostra a figura abaixo."
   ],
   "cell_type": "markdown",
   "metadata": {}
  },
  {
   "cell_type": "code",
   "execution_count": 4,
   "metadata": {},
   "outputs": [
    {
     "output_type": "display_data",
     "data": {
      "text/plain": "plot without title",
      "image/png": "[encoded data removed]"
     },
     "metadata": {
      "image/png": {
       "width": 420,
       "height": 420
      }
     }
    }
   ],
   "source": [
    "# graficos\n",
    "par(mfrow=c(2,2))\n",
    "\n",
    "plot(x1, y1, pch=19)\n",
    "plot(x2, y2, pch=19)\n",
    "plot(x3, y3, pch=19)\n",
    "plot(x4, y4, pch=19)"
   ]
  },
  {
   "source": [
    "## Conclusão\n",
    "\n",
    "Analisando os valores de média aritmética obtidos, vemos que os valores para as variáveis **xn** e **yn** são iguais entre si. Os valores de correlação entre as variáveis (duas a duas) também são bastante similares.\n",
    "\n",
    "Os valores de correlação são positivos - o que significa que quando uma das variáveis cresce, a outra também cresce. Além disso, como os valores são próximos de **0.80**, a relação entre as variáveis pode ser considerada entre moderada e alta.\n",
    "\n",
    "Plotando os dados, entretanto, vemos que essa conclusão não é certa - visualmente, os conjuntos de dados são muito diferentes uns dos outros. Portanto, os valores de média aritmética e correlação não são suficientes para analisar os dados."
   ],
   "cell_type": "markdown",
   "metadata": {}
  }
 ]
}