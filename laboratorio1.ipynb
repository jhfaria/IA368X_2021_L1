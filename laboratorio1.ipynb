{
 "metadata": {
  "orig_nbformat": 2,
  "kernelspec": {
   "name": "ir",
   "display_name": "R",
   "language": "R"
  },
  "metadata": {
   "interpreter": {
    "hash": "1679ff9c7262cb74c426c67b4820b8a25f19762de57375222eb445009bfb1f56"
   }
  }
 },
 "nbformat": 4,
 "nbformat_minor": 2,
 "cells": [
  {
   "source": [
    "# Laboratório 1\n",
    "\n",
    "Relatório do 1o Laboratório da disciplina IA368X, 1S2021 UNICAMP.\n",
    "\n",
    "Arquivo CSV com o dados: [link](https://raw.githubusercontent.com/pdpcosta/labs2learn/master/data/ebmocsna.csv)"
   ],
   "cell_type": "markdown",
   "metadata": {}
  },
  {
   "source": [
    "## Linguagem escolhida"
   ],
   "cell_type": "markdown",
   "metadata": {}
  },
  {
   "source": [
    "## Processo de instalação"
   ],
   "cell_type": "markdown",
   "metadata": {}
  },
  {
   "source": [
    "## Análise\n",
    "\n",
    "O arquivo CSV apresenta o resultado de quatro experimentos onde a configuração da variável de controle **x**, resultou na correspondente medição **y**. Para os três primeiros experimentos, o valor de **x1**, **x2** e **x3** é o mesmo, resultando nas medições **y1**, **y2** e **y3**. Já no quarto experimento, os valores de **y4** são correspondentes à variável **x4**."
   ],
   "cell_type": "markdown",
   "metadata": {}
  },
  {
   "cell_type": "code",
   "execution_count": null,
   "metadata": {},
   "outputs": [],
   "source": [
    "# leitura dos dados do arquivo CSV\n",
    "csv_values <- read.csv(file=\"data/ebmocsna.csv\")\n",
    "\n",
    "x1 = csv_values$x1\n",
    "x2 = csv_values$x2\n",
    "x3 = csv_values$x3\n",
    "x4 = csv_values$x4\n",
    "\n",
    "y1 = csv_values$y1\n",
    "y2 = csv_values$y2\n",
    "y3 = csv_values$y3\n",
    "y4 = csv_values$y4"
   ]
  },
  {
   "source": [
    "Para a análise dos dados, inicialmente considerou-se a média de cada uma das variáveis. Esses resultados se encontram na célula abaixo."
   ],
   "cell_type": "markdown",
   "metadata": {}
  },
  {
   "cell_type": "code",
   "execution_count": 23,
   "metadata": {},
   "outputs": [
    {
     "output_type": "display_data",
     "data": {
      "text/html": "'A media de x1 eh 9.00'",
      "text/markdown": "'A media de x1 eh 9.00'",
      "text/latex": "'A media de x1 eh 9.00'",
      "text/plain": "[1] \"A media de x1 eh 9.00\""
     },
     "metadata": {}
    },
    {
     "output_type": "display_data",
     "data": {
      "text/html": "'A media de x2 eh 9.00'",
      "text/markdown": "'A media de x2 eh 9.00'",
      "text/latex": "'A media de x2 eh 9.00'",
      "text/plain": "[1] \"A media de x2 eh 9.00\""
     },
     "metadata": {}
    },
    {
     "output_type": "display_data",
     "data": {
      "text/html": "'A media de x3 eh 9.00'",
      "text/markdown": "'A media de x3 eh 9.00'",
      "text/latex": "'A media de x3 eh 9.00'",
      "text/plain": "[1] \"A media de x3 eh 9.00\""
     },
     "metadata": {}
    },
    {
     "output_type": "display_data",
     "data": {
      "text/html": "'A media de x4 eh 9.00'",
      "text/markdown": "'A media de x4 eh 9.00'",
      "text/latex": "'A media de x4 eh 9.00'",
      "text/plain": "[1] \"A media de x4 eh 9.00\""
     },
     "metadata": {}
    },
    {
     "output_type": "display_data",
     "data": {
      "text/html": "'A media de y1 eh 7.50'",
      "text/markdown": "'A media de y1 eh 7.50'",
      "text/latex": "'A media de y1 eh 7.50'",
      "text/plain": "[1] \"A media de y1 eh 7.50\""
     },
     "metadata": {}
    },
    {
     "output_type": "display_data",
     "data": {
      "text/html": "'A media de y2 eh 7.50'",
      "text/markdown": "'A media de y2 eh 7.50'",
      "text/latex": "'A media de y2 eh 7.50'",
      "text/plain": "[1] \"A media de y2 eh 7.50\""
     },
     "metadata": {}
    },
    {
     "output_type": "display_data",
     "data": {
      "text/html": "'A media de y3 eh 7.50'",
      "text/markdown": "'A media de y3 eh 7.50'",
      "text/latex": "'A media de y3 eh 7.50'",
      "text/plain": "[1] \"A media de y3 eh 7.50\""
     },
     "metadata": {}
    },
    {
     "output_type": "display_data",
     "data": {
      "text/html": "'A media de y4 eh 7.50'",
      "text/markdown": "'A media de y4 eh 7.50'",
      "text/latex": "'A media de y4 eh 7.50'",
      "text/plain": "[1] \"A media de y4 eh 7.50\""
     },
     "metadata": {}
    }
   ],
   "source": [
    "# calculo da media\n",
    "media_x1 = mean(x1)\n",
    "sprintf(\"A media de x1 eh %.2f\", media_x1)\n",
    "\n",
    "media_x2 = mean(x2)\n",
    "sprintf(\"A media de x2 eh %.2f\", media_x2)\n",
    "\n",
    "media_x3 = mean(x3)\n",
    "sprintf(\"A media de x3 eh %.2f\", media_x3)\n",
    "\n",
    "media_x4 = mean(x4)\n",
    "sprintf(\"A media de x4 eh %.2f\", media_x4)\n",
    "\n",
    "media_y1 = mean(y1)\n",
    "sprintf(\"A media de y1 eh %.2f\", media_y1)\n",
    "\n",
    "media_y2 = mean(y2)\n",
    "sprintf(\"A media de y2 eh %.2f\", media_y2)\n",
    "\n",
    "media_y3 = mean(y3)\n",
    "sprintf(\"A media de y3 eh %.2f\", media_y3)\n",
    "\n",
    "media_y4 = mean(y4)\n",
    "sprintf(\"A media de y4 eh %.2f\", media_y4)"
   ]
  },
  {
   "source": [
    "Considerou-se em seguida a correlação entre as variáveis duas a duas - **x1** e **y1**, **x2** e **y2**, e assim por diante. Os resultados se encontram na célula abaixo."
   ],
   "cell_type": "markdown",
   "metadata": {}
  },
  {
   "cell_type": "code",
   "execution_count": 27,
   "metadata": {},
   "outputs": [
    {
     "output_type": "display_data",
     "data": {
      "text/html": "'A correlacao entre x1 e y1 eh 0.816'",
      "text/markdown": "'A correlacao entre x1 e y1 eh 0.816'",
      "text/latex": "'A correlacao entre x1 e y1 eh 0.816'",
      "text/plain": "[1] \"A correlacao entre x1 e y1 eh 0.816\""
     },
     "metadata": {}
    },
    {
     "output_type": "display_data",
     "data": {
      "text/html": "'A correlacao entre x2 e y2 eh 0.816'",
      "text/markdown": "'A correlacao entre x2 e y2 eh 0.816'",
      "text/latex": "'A correlacao entre x2 e y2 eh 0.816'",
      "text/plain": "[1] \"A correlacao entre x2 e y2 eh 0.816\""
     },
     "metadata": {}
    },
    {
     "output_type": "display_data",
     "data": {
      "text/html": "'A correlacao entre x3 e y3 eh 0.816'",
      "text/markdown": "'A correlacao entre x3 e y3 eh 0.816'",
      "text/latex": "'A correlacao entre x3 e y3 eh 0.816'",
      "text/plain": "[1] \"A correlacao entre x3 e y3 eh 0.816\""
     },
     "metadata": {}
    },
    {
     "output_type": "display_data",
     "data": {
      "text/html": "'A correlacao entre x4 e y4 eh 0.817'",
      "text/markdown": "'A correlacao entre x4 e y4 eh 0.817'",
      "text/latex": "'A correlacao entre x4 e y4 eh 0.817'",
      "text/plain": "[1] \"A correlacao entre x4 e y4 eh 0.817\""
     },
     "metadata": {}
    }
   ],
   "source": [
    "correlacao_x1_y1 = cor(x1, y1, method=\"pearson\")\n",
    "sprintf(\"A correlacao entre x1 e y1 eh %.3f\", correlacao_x1_y1)\n",
    "\n",
    "correlacao_x2_y2 = cor(x2, y2, method=\"pearson\")\n",
    "sprintf(\"A correlacao entre x2 e y2 eh %.3f\", correlacao_x2_y2)\n",
    "\n",
    "correlacao_x3_y3 = cor(x3, y3, method=\"pearson\")\n",
    "sprintf(\"A correlacao entre x3 e y3 eh %.3f\", correlacao_x3_y3)\n",
    "\n",
    "correlacao_x4_y4 = cor(x4, y4, method=\"pearson\")\n",
    "sprintf(\"A correlacao entre x4 e y4 eh %.3f\", correlacao_x4_y4)"
   ]
  },
  {
   "cell_type": "code",
   "execution_count": 31,
   "metadata": {},
   "outputs": [
    {
     "output_type": "display_data",
     "data": {
      "text/plain": "plot without title",
      "image/png": "[encoded data removed]"
     },
     "metadata": {
      "image/png": {
       "width": 420,
       "height": 420
      }
     }
    }
   ],
   "source": [
    "plot(x1, y1)"
   ]
  },
  {
   "source": [
    "## Conclusão"
   ],
   "cell_type": "markdown",
   "metadata": {}
  }
 ]
}